{
 "cells": [
  {
   "cell_type": "code",
   "execution_count": 1,
   "id": "d23cbb50-08fc-4c5a-86c1-a9e16eb52c16",
   "metadata": {},
   "outputs": [
    {
     "name": "stdout",
     "output_type": "stream",
     "text": [
      "Acuracia de linha de base (com todas as features): 0.8333\n",
      "\n",
      "Acuracia sem temperatura: 0.8333 (diferença: 0.0)\n",
      "Acuracia sem pressao: 0.8333 (diferença: 0.0)\n",
      "Acuracia sem velocidade: 0.8333 (diferença: 0.0)\n",
      "Acuracia sem vibracao: 0.8333 (diferença: 0.0)\n",
      "Acuracia sem umidade: 0.8222 (diferença: 0.011111111111111183)\n",
      "-=-=-=-=-=-=-=-=-=-=-=-=-=-=-=-=-=-=-=-=-=-=-=-=-=-=-=-=-=-=\n",
      "0,8333\n",
      "umidade\n",
      "Não, isso indica que o problema nos produtos era ocasionado pela umidade\n",
      "O resultado sugere que os sensores registrando a umidade dos produtos deve ter uma atenção especial, considerando que a variação da acuracia nas outras variaveis não teve alteração\n"
     ]
    }
   ],
   "source": [
    "import pandas as pd\n",
    "from sklearn.model_selection import train_test_split\n",
    "from sklearn.metrics import accuracy_score\n",
    "from sklearn.neighbors import KNeighborsClassifier\n",
    "#carregando dataset (1)\n",
    "df=pd.read_csv('defeitos_dataset.csv')\n",
    "\n",
    "\n",
    "#separando a coluna defeituoso(2)\n",
    "x=df.drop('defeituoso', axis=1)\n",
    "y=df['defeituoso']\n",
    "\n",
    "\n",
    "#dividindo os dados de treino e teste(3)\n",
    "x_train, x_test, y_train, y_test=train_test_split(x,y, test_size=0.3, random_state=42)\n",
    "\n",
    "\n",
    "#Treinando o modelo\n",
    "base_modelo=KNeighborsClassifier(n_neighbors=5)\n",
    "base_modelo.fit(x_train,y_train)\n",
    "base_pred=base_modelo.predict(x_test)\n",
    "base_acuracia=accuracy_score(y_test, base_pred)\n",
    "\n",
    "print(f'Acuracia de linha de base (com todas as features): {base_acuracia:.4}\\n')\n",
    "\n",
    "#removendo cada variavel e ver o impacto delas na predição\n",
    "\n",
    "features=x.columns\n",
    "ablation_results={}\n",
    "\n",
    "\n",
    "#procedimento de ablation(6)\n",
    "for features_a_remover in features:\n",
    "    features_restantes=[f for f in features if f!= features_a_remover]\n",
    "    x_ablated=x[features_restantes]\n",
    "\n",
    "    x_train_ab, x_test_ab, y_train_ab, y_test_ab=(train_test_split(x_ablated,y, test_size=0.3, random_state=42))\n",
    "    #treinando o modelo com todas as variaveis(4)\n",
    "    ablated_base=KNeighborsClassifier(n_neighbors=5)\n",
    "    ablated_base.fit(x_train_ab, y_train_ab)\n",
    "    pred_ab=ablated_base.predict(x_test_ab)\n",
    "    #calculo da acuracia em todas as features(5)\n",
    "    acuracia_ab=accuracy_score(y_test_ab,pred_ab)\n",
    "\n",
    "    #comparar os resultados(5)\n",
    "    diferenca=base_acuracia-acuracia_ab\n",
    "    ablation_results[features_a_remover] = acuracia_ab\n",
    "\n",
    "    print(f'Acuracia sem {features_a_remover}: {acuracia_ab:.4} (diferença: {diferenca})')\n",
    "\n",
    "print('-='*30)\n",
    "\n",
    "print('0,8333')\n",
    "print('umidade')\n",
    "print('Não, isso indica que o problema nos produtos era ocasionado pela umidade')\n",
    "print('O resultado sugere que os sensores registrando a umidade dos produtos deve ter uma atenção especial, considerando que a variação da acuracia nas outras variaveis não teve alteração')"
   ]
  },
  {
   "cell_type": "code",
   "execution_count": null,
   "id": "7f138bf3-e6e0-4df2-9d67-a1cab847eaed",
   "metadata": {},
   "outputs": [],
   "source": []
  }
 ],
 "metadata": {
  "kernelspec": {
   "display_name": "Python 3 (ipykernel)",
   "language": "python",
   "name": "python3"
  },
  "language_info": {
   "codemirror_mode": {
    "name": "ipython",
    "version": 3
   },
   "file_extension": ".py",
   "mimetype": "text/x-python",
   "name": "python",
   "nbconvert_exporter": "python",
   "pygments_lexer": "ipython3",
   "version": "3.13.4"
  }
 },
 "nbformat": 4,
 "nbformat_minor": 5
}
